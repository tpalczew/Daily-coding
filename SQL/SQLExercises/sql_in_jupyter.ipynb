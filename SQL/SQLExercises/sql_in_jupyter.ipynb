{
 "cells": [
  {
   "cell_type": "markdown",
   "id": "2876577e",
   "metadata": {},
   "source": [
    "Load SQL"
   ]
  },
  {
   "cell_type": "code",
   "execution_count": null,
   "id": "957e3924",
   "metadata": {},
   "outputs": [],
   "source": [
    "%load_ext sql"
   ]
  },
  {
   "cell_type": "code",
   "execution_count": null,
   "id": "bd39f6b2",
   "metadata": {},
   "outputs": [],
   "source": [
    "%sql sqlite://temp.db"
   ]
  },
  {
   "cell_type": "code",
   "execution_count": null,
   "id": "776f7a0b",
   "metadata": {},
   "outputs": [],
   "source": [
    "%%sql\n",
    "CREATE TABLE Persons (\n",
    "    PersonID int,\n",
    "    LastName varchar(255),\n",
    "    FirstName varchar(255),\n",
    "    Address varchar(255),\n",
    "    City varchar(255)\n",
    "    );"
   ]
  },
  {
   "cell_type": "code",
   "execution_count": null,
   "id": "ce5ef33b",
   "metadata": {},
   "outputs": [],
   "source": [
    "%%sql\n",
    "INSERT INTO Persons (PersonID, LastName, FirstName, Address, City)\n",
    "VALUES ('1', 'Ben G.', 'Benedickt', 'Long Street', 'San Francisco');"
   ]
  },
  {
   "cell_type": "code",
   "execution_count": 21,
   "id": "49c1cc35",
   "metadata": {},
   "outputs": [
    {
     "name": "stdout",
     "output_type": "stream",
     "text": [
      " * sqlite://\n",
      "Done.\n"
     ]
    },
    {
     "data": {
      "text/html": [
       "<table>\n",
       "    <tr>\n",
       "        <th>PersonID</th>\n",
       "        <th>LastName</th>\n",
       "        <th>FirstName</th>\n",
       "        <th>Address</th>\n",
       "        <th>City</th>\n",
       "    </tr>\n",
       "    <tr>\n",
       "        <td>1</td>\n",
       "        <td>Tom B.</td>\n",
       "        <td>Erichsen</td>\n",
       "        <td>Long Street</td>\n",
       "        <td>San Francisco</td>\n",
       "    </tr>\n",
       "    <tr>\n",
       "        <td>1</td>\n",
       "        <td>Tom B.</td>\n",
       "        <td>Erichsen</td>\n",
       "        <td>Long Street</td>\n",
       "        <td>San Francisco</td>\n",
       "    </tr>\n",
       "    <tr>\n",
       "        <td>1</td>\n",
       "        <td>Tom G.</td>\n",
       "        <td>Benedickt</td>\n",
       "        <td>Long Street</td>\n",
       "        <td>San Francisco</td>\n",
       "    </tr>\n",
       "    <tr>\n",
       "        <td>1</td>\n",
       "        <td>Ben G.</td>\n",
       "        <td>Benedickt</td>\n",
       "        <td>Long Street</td>\n",
       "        <td>San Francisco</td>\n",
       "    </tr>\n",
       "</table>"
      ],
      "text/plain": [
       "[(1, 'Tom B.', 'Erichsen', 'Long Street', 'San Francisco'),\n",
       " (1, 'Tom B.', 'Erichsen', 'Long Street', 'San Francisco'),\n",
       " (1, 'Tom G.', 'Benedickt', 'Long Street', 'San Francisco'),\n",
       " (1, 'Ben G.', 'Benedickt', 'Long Street', 'San Francisco')]"
      ]
     },
     "execution_count": 21,
     "metadata": {},
     "output_type": "execute_result"
    }
   ],
   "source": [
    "%%sql \n",
    "SELECT * FROM Persons"
   ]
  },
  {
   "cell_type": "code",
   "execution_count": null,
   "id": "c0ca10ea",
   "metadata": {},
   "outputs": [],
   "source": []
  }
 ],
 "metadata": {
  "interpreter": {
   "hash": "31f2aee4e71d21fbe5cf8b01ff0e069b9275f58929596ceb00d14d90e3e16cd6"
  },
  "kernelspec": {
   "display_name": "Python 3.8.9 64-bit",
   "language": "python",
   "name": "python3"
  },
  "language_info": {
   "codemirror_mode": {
    "name": "ipython",
    "version": 3
   },
   "file_extension": ".py",
   "mimetype": "text/x-python",
   "name": "python",
   "nbconvert_exporter": "python",
   "pygments_lexer": "ipython3",
   "version": "3.8.9"
  }
 },
 "nbformat": 4,
 "nbformat_minor": 5
}
